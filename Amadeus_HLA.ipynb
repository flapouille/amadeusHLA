{
 "cells": [
  {
   "cell_type": "code",
   "execution_count": 12,
   "metadata": {
    "collapsed": false
   },
   "outputs": [
    {
     "name": "stdout",
     "output_type": "stream",
     "text": [
      "Let's start the challenge! \n"
     ]
    }
   ],
   "source": [
    "import pandas as pd\n",
    "\n",
    "print \"Let's start the challenge! \""
   ]
  },
  {
   "cell_type": "code",
   "execution_count": 13,
   "metadata": {
    "collapsed": false
   },
   "outputs": [
    {
     "name": "stdout",
     "output_type": "stream",
     "text": [
      "The number of rows of bookings file is 1000\n"
     ]
    }
   ],
   "source": [
    "bookings = pd.read_csv('data/bookings.csv.bz2', sep='^', compression='bz2', usecols=['arr_port','pax'], nrows=1000)\n",
    "print \"The number of rows of bookings file is %s\" % len(bookings)"
   ]
  },
  {
   "cell_type": "code",
   "execution_count": 14,
   "metadata": {
    "collapsed": false
   },
   "outputs": [
    {
     "name": "stdout",
     "output_type": "stream",
     "text": [
      "The number of rows of searches file is 1000\n"
     ]
    }
   ],
   "source": [
    "searches = pd.read_csv('data/searches.csv.bz2', sep='^', compression='bz2', usecols=['Destination','Origin'], nrows=1000)\n",
    "print \"The number of rows of searches file is %s\" % len(searches)"
   ]
  },
  {
   "cell_type": "code",
   "execution_count": 15,
   "metadata": {
    "collapsed": false
   },
   "outputs": [
    {
     "name": "stdout",
     "output_type": "stream",
     "text": [
      "          pax\n",
      "arr_port     \n",
      "DCA        50\n",
      "JFK        14\n",
      "FLL        13\n",
      "PVG        13\n",
      "CGK        12\n",
      "LGA        12\n",
      "SVO        12\n",
      "LAS        11\n",
      "BOS        11\n",
      "MIA        11\n"
     ]
    }
   ],
   "source": [
    "best10airports = bookings.groupby('arr_port').aggregate(sum).sort_index(by='pax', ascending=False).head(10)\n",
    "print best10airports"
   ]
  },
  {
   "cell_type": "code",
   "execution_count": null,
   "metadata": {
    "collapsed": true
   },
   "outputs": [],
   "source": []
  }
 ],
 "metadata": {
  "kernelspec": {
   "display_name": "Python 2",
   "language": "python",
   "name": "python2"
  },
  "language_info": {
   "codemirror_mode": {
    "name": "ipython",
    "version": 2
   },
   "file_extension": ".py",
   "mimetype": "text/x-python",
   "name": "python",
   "nbconvert_exporter": "python",
   "pygments_lexer": "ipython2",
   "version": "2.7.10"
  }
 },
 "nbformat": 4,
 "nbformat_minor": 0
}
