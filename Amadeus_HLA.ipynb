{
 "cells": [
  {
   "cell_type": "code",
   "execution_count": 2,
   "metadata": {
    "collapsed": false
   },
   "outputs": [
    {
     "name": "stdout",
     "output_type": "stream",
     "text": [
      "Let's start the challenge! \n"
     ]
    }
   ],
   "source": [
    "%matplotlib inline\n",
    "\n",
    "import pandas as pd\n",
    "import multiprocessing as mp\n",
    "import matplotlib.pyplot as plt\n",
    "import bz2\n",
    "import os\n",
    "from GeoBases import GeoBase\n",
    "\n",
    "path_bookings = 'data/bookings.csv.bz2'\n",
    "path_searches = 'data/searches.csv.bz2'\n",
    "path_modifiedsearches = 'data/searches2.csv'\n",
    "\n",
    "size_chunks = 1000000\n",
    "\n",
    "\n",
    "print \"Let's start the challenge! \""
   ]
  },
  {
   "cell_type": "code",
   "execution_count": 211,
   "metadata": {
    "collapsed": false
   },
   "outputs": [
    {
     "name": "stdout",
     "output_type": "stream",
     "text": [
      "First Exercise : count the number of lines in Python for each file\n"
     ]
    }
   ],
   "source": [
    "# --------------------------------------------------------------------------\n",
    "print \"First Exercise : count the number of lines in Python for each file\""
   ]
  },
  {
   "cell_type": "code",
   "execution_count": 212,
   "metadata": {
    "collapsed": false
   },
   "outputs": [
    {
     "name": "stdout",
     "output_type": "stream",
     "text": [
      "File data/bookings.csv.bz2 has 10000011 lines \n"
     ]
    }
   ],
   "source": [
    "nbLines_bkgs = 0\n",
    "with bz2.BZ2File(path_bookings,'r') as fin:\n",
    "    for line in fin:\n",
    "        nbLines_bkgs += 1\n",
    "        \n",
    "print \"File %s has %s lines \" % (path_bookings,nbLines_bkgs)"
   ]
  },
  {
   "cell_type": "code",
   "execution_count": 213,
   "metadata": {
    "collapsed": false
   },
   "outputs": [
    {
     "name": "stdout",
     "output_type": "stream",
     "text": [
      "File data/searches.csv.bz2 has 20390199 lines \n"
     ]
    }
   ],
   "source": [
    "nbLines_searches = 0\n",
    "with bz2.BZ2File(path_searches,'r') as fin:\n",
    "    for line in fin:\n",
    "        nbLines_searches += 1\n",
    "\n",
    "print \"File %s has %s lines \" % (path_searches,nbLines_searches)"
   ]
  },
  {
   "cell_type": "code",
   "execution_count": 214,
   "metadata": {
    "collapsed": false
   },
   "outputs": [
    {
     "name": "stdout",
     "output_type": "stream",
     "text": [
      "Second Exercise : top 10 arrival airports in the world in 2013\n"
     ]
    }
   ],
   "source": [
    "# --------------------------------------------------------------------------\n",
    "print \"Second Exercise : top 10 arrival airports in the world in 2013\""
   ]
  },
  {
   "cell_type": "code",
   "execution_count": 3,
   "metadata": {
    "collapsed": false
   },
   "outputs": [],
   "source": [
    "# loading bookings by chunks for memory reasons. We are only interested in 3 colonnes\n",
    "bookingsReader = pd.read_csv(path_bookings, sep='^', compression='bz2', usecols=['arr_port','dep_port', 'pax'],\n",
    "                iterator=True, chunksize=size_chunks)\n",
    "bookings = pd.concat(bookingsReader, ignore_index=True)"
   ]
  },
  {
   "cell_type": "code",
   "execution_count": 4,
   "metadata": {
    "collapsed": false,
    "scrolled": true
   },
   "outputs": [
    {
     "name": "stdout",
     "output_type": "stream",
     "text": [
      "LHR (London Heathrow Airport) : 88809\n",
      "MCO (Orlando International Airport) : 70930\n",
      "LAX (Los Angeles International Airport) : 70530\n",
      "LAS (McCarran International Airport) : 69630\n",
      "JFK (John F Kennedy International Airport) : 66270\n",
      "CDG (Paris - Charles-de-Gaulle) : 64490\n",
      "BKK (Suvarnabhumi) : 59460\n",
      "MIA (Miami International Airport) : 58150\n",
      "SFO (San Francisco International Airport) : 58000\n",
      "DXB (Dubai International Airport) : 55590\n"
     ]
    }
   ],
   "source": [
    "best10airports = bookings.groupby('arr_port').aggregate(sum).sort_index(by='pax', ascending=False).head(10)\n",
    "geo_a = GeoBase(data='airports', verbose=False)\n",
    "for (arp,d) in best10airports.iterrows():\n",
    "    print \"%s (%s) : %.0f\" % (arp.strip(), geo_a.get(arp.strip(), 'name'), d['pax'])"
   ]
  },
  {
   "cell_type": "code",
   "execution_count": 217,
   "metadata": {
    "collapsed": false
   },
   "outputs": [
    {
     "name": "stdout",
     "output_type": "stream",
     "text": [
      "Third Exercise : Monthly Number of searches for flights arriving at Málaga, Madrid or Barcelona\n"
     ]
    }
   ],
   "source": [
    "# --------------------------------------------------------------------------\n",
    "print \"Third Exercise : Monthly Number of searches for flights arriving at Málaga, Madrid or Barcelona\""
   ]
  },
  {
   "cell_type": "code",
   "execution_count": 218,
   "metadata": {
    "collapsed": false
   },
   "outputs": [
    {
     "name": "stdout",
     "output_type": "stream",
     "text": [
      "Malaga airport code --> AGP \n",
      "Madrid airport code --> MAD \n",
      "Barcelona airport code --> BCN \n"
     ]
    }
   ],
   "source": [
    "# Gets airport codes\n",
    "malaga_airport = geo_a.fuzzyFind('Malaga','name')[0][1]\n",
    "madrid_airport = geo_a.fuzzyFind('Madrid','name')[0][1]\n",
    "barcelona_airport = geo_a.fuzzyFind('Barcelona','name')[0][1]\n",
    "print \"Malaga airport code --> %s \" % (malaga_airport)\n",
    "print \"Madrid airport code --> %s \" % (madrid_airport)\n",
    "print \"Barcelona airport code --> %s \" % (barcelona_airport)"
   ]
  },
  {
   "cell_type": "code",
   "execution_count": 219,
   "metadata": {
    "collapsed": false
   },
   "outputs": [
    {
     "name": "stdout",
     "output_type": "stream",
     "text": [
      "Number of searches for flights arriving at Málaga, Madrid or Barcelona is 676382\n"
     ]
    }
   ],
   "source": [
    "searchesReader = pd.read_csv(path_searches, sep='^', compression='bz2', usecols=['Origin','Destination', 'Date'],\n",
    "                iterator=True, chunksize=size_chunks)\n",
    "searches_spain = pd.concat([chunk[chunk['Destination'].isin([malaga_airport,madrid_airport,barcelona_airport])] \n",
    "                            for chunk in searchesReader])\n",
    "\n",
    "searches_spain.loc[:,'Month'] = searches_spain['Date'].map(lambda x: pd.datetime.strptime(x.strip(), '%Y-%m-%d').month)\n",
    "print \"Number of searches for flights arriving at Málaga, Madrid or Barcelona is %s\" % len(searches_spain)"
   ]
  },
  {
   "cell_type": "code",
   "execution_count": 220,
   "metadata": {
    "collapsed": false
   },
   "outputs": [
    {
     "data": {
      "text/plain": [
       "<matplotlib.legend.Legend at 0x170ab908>"
      ]
     },
     "execution_count": 220,
     "metadata": {},
     "output_type": "execute_result"
    },
    {
     "data": {
      "image/png": "[encoded data removed]",
      "text/plain": [
       "<matplotlib.figure.Figure at 0x170ab390>"
      ]
     },
     "metadata": {},
     "output_type": "display_data"
    }
   ],
   "source": [
    "pd.set_option('display.mpl_style', 'default') # Make the graphs a bit prettier\n",
    "plt.rcParams['figure.figsize'] = (15, 5)\n",
    "plt.rcParams['font.family'] = 'sans-serif'\n",
    "\n",
    "fig, ax = plt.subplots()\n",
    "for arp, df in searches_spain.groupby('Destination'):\n",
    "    monthlySearches = df.groupby('Month').size()\n",
    "    monthlySearches.index = ['Jan', 'Feb', 'March', 'April', 'May', 'June', 'July', 'August', 'Sept', 'Oct', 'Nov', 'Dec']\n",
    "    monthlySearches.plot(kind=\"line\", x='Month', legend='Number of searches', ax=ax, label=geo_a.get(arp, 'name'), \n",
    "                         title='Number of searches per month for different destinations' )\n",
    "plt.legend()"
   ]
  },
  {
   "cell_type": "code",
   "execution_count": 221,
   "metadata": {
    "collapsed": false
   },
   "outputs": [
    {
     "name": "stdout",
     "output_type": "stream",
     "text": [
      "Fourth (Bonus) Exercise : match searches with bookings\n"
     ]
    }
   ],
   "source": [
    "# --------------------------------------------------------------------------\n",
    "print \"Fourth (Bonus) Exercise : match searches with bookings\""
   ]
  },
  {
   "cell_type": "code",
   "execution_count": 5,
   "metadata": {
    "collapsed": false
   },
   "outputs": [
    {
     "name": "stdout",
     "output_type": "stream",
     "text": [
      "Found 78846 different airport airports\n"
     ]
    }
   ],
   "source": [
    "# Stores uniques airport airport for later join\n",
    "airportairport = bookings.drop_duplicates(subset=['arr_port','dep_port'])\n",
    "airportairport = airportairport.drop('pax',axis=1)\n",
    "airportairport['arr_port'] = airportairport['arr_port'].map(str.strip)\n",
    "airportairport['dep_port'] = airportairport['dep_port'].map(str.strip)\n",
    "airportairport = airportairport.rename(columns={'arr_port': 'Destination', 'dep_port': 'Origin'})\n",
    "airportairport.loc[:,'BookingIndicator']='1'\n",
    "print 'Found %s different airport airports' % len(airportairport)"
   ]
  },
  {
   "cell_type": "code",
   "execution_count": 11,
   "metadata": {
    "collapsed": false
   },
   "outputs": [
    {
     "name": "stdout",
     "output_type": "stream",
     "text": [
      "The history saving thread hit an unexpected error (OperationalError('disk I/O error',)).History will not be written to the database.\n",
      "0\n",
      "1000000\n",
      "2000000\n",
      "3000000\n",
      "4000000\n",
      "5000000\n",
      "6000000\n",
      "7000000\n",
      "8000000\n",
      "9000000\n",
      "10000000\n",
      "11000000\n",
      "12000000\n",
      "13000000\n",
      "14000000\n",
      "15000000\n",
      "16000000\n",
      "17000000\n",
      "18000000\n",
      "19000000\n",
      "20000000\n"
     ]
    }
   ],
   "source": [
    "# Delete file in case it exists as we are appending to it\n",
    "if os.path.exists(path_modifiedsearches):\n",
    "    os.remove(path_modifiedsearches)\n",
    "\n",
    "size_chunks = 1000000\n",
    "    \n",
    "for i in range(0, 20390199, size_chunks):\n",
    "    print i\n",
    "    df = pd.read_csv(path_searches, sep='^', compression='bz2', \n",
    "            header=None,  # no header, define column header manually later\n",
    "            nrows=size_chunks, # number of rows to read at each iteration\n",
    "            skiprows=1 if i == 0 else i)   # skip rows that were already read. skip header if first\n",
    "    df.columns = header\n",
    "    \n",
    "    joined = pd.merge(df, airportairport,\n",
    "                      on=['Origin','Destination'], \n",
    "                      how='left')\n",
    "    joined['BookingIndicator'] = joined['BookingIndicator'].astype(object).fillna('0')\n",
    "    joined.to_csv(path_modifiedsearches, sep='^', mode='a', header=True if i == 0 else False, index=False) \n",
    "    # header = true if first chunk"
   ]
  },
  {
   "cell_type": "code",
   "execution_count": 12,
   "metadata": {
    "collapsed": true
   },
   "outputs": [],
   "source": [
    "# compression.\n",
    "from shutil import copyfileobj\n",
    "\n",
    "with open(path_modifiedsearches, 'rb') as input:\n",
    "    with bz2.BZ2File(path_modifiedsearches+'.bz2', 'wb', compresslevel=9) as output:\n",
    "        copyfileobj(input, output)"
   ]
  },
  {
   "cell_type": "code",
   "execution_count": null,
   "metadata": {
    "collapsed": true
   },
   "outputs": [],
   "source": []
  }
 ],
 "metadata": {
  "kernelspec": {
   "display_name": "Python 2",
   "language": "python",
   "name": "python2"
  },
  "language_info": {
   "codemirror_mode": {
    "name": "ipython",
    "version": 2
   },
   "file_extension": ".py",
   "mimetype": "text/x-python",
   "name": "python",
   "nbconvert_exporter": "python",
   "pygments_lexer": "ipython2",
   "version": "2.7.10"
  }
 },
 "nbformat": 4,
 "nbformat_minor": 0
}
